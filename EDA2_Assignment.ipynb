{
  "nbformat": 4,
  "nbformat_minor": 0,
  "metadata": {
    "colab": {
      "provenance": []
    },
    "kernelspec": {
      "name": "python3",
      "display_name": "Python 3"
    },
    "language_info": {
      "name": "python"
    }
  },
  "cells": [
    {
      "cell_type": "code",
      "source": [
        "!pip install ppscore\n",
        "import pandas as pd\n",
        "import numpy as np\n",
        "from sklearn.preprocessing import StandardScaler, MinMaxScaler, OneHotEncoder, LabelEncoder\n",
        "from sklearn.ensemble import IsolationForest\n",
        "import ppscore as pps # After installation, try importing again\n",
        "\n",
        "# Load the dataset\n",
        "file_path = '/content/adult_with_headers.csv'\n",
        "data = pd.read_csv(file_path)\n",
        "\n",
        "# Basic data exploration\n",
        "print(data.info())\n",
        "print(data.describe())\n",
        "print(data.isnull().sum())\n",
        "\n"
      ],
      "metadata": {
        "colab": {
          "base_uri": "https://localhost:8080/"
        },
        "id": "1KoH01bOOOKJ",
        "outputId": "bb28f03b-238e-4670-e450-8f415244220f"
      },
      "execution_count": 2,
      "outputs": [
        {
          "output_type": "stream",
          "name": "stdout",
          "text": [
            "Requirement already satisfied: ppscore in /usr/local/lib/python3.10/dist-packages (1.3.0)\n",
            "Requirement already satisfied: pandas<2.0.0,>=1.0.0 in /usr/local/lib/python3.10/dist-packages (from ppscore) (1.5.3)\n",
            "Requirement already satisfied: scikit-learn<2.0.0,>=0.20.2 in /usr/local/lib/python3.10/dist-packages (from ppscore) (1.2.2)\n",
            "Requirement already satisfied: python-dateutil>=2.8.1 in /usr/local/lib/python3.10/dist-packages (from pandas<2.0.0,>=1.0.0->ppscore) (2.8.2)\n",
            "Requirement already satisfied: pytz>=2020.1 in /usr/local/lib/python3.10/dist-packages (from pandas<2.0.0,>=1.0.0->ppscore) (2023.4)\n",
            "Requirement already satisfied: numpy>=1.21.0 in /usr/local/lib/python3.10/dist-packages (from pandas<2.0.0,>=1.0.0->ppscore) (1.25.2)\n",
            "Requirement already satisfied: scipy>=1.3.2 in /usr/local/lib/python3.10/dist-packages (from scikit-learn<2.0.0,>=0.20.2->ppscore) (1.11.4)\n",
            "Requirement already satisfied: joblib>=1.1.1 in /usr/local/lib/python3.10/dist-packages (from scikit-learn<2.0.0,>=0.20.2->ppscore) (1.4.2)\n",
            "Requirement already satisfied: threadpoolctl>=2.0.0 in /usr/local/lib/python3.10/dist-packages (from scikit-learn<2.0.0,>=0.20.2->ppscore) (3.5.0)\n",
            "Requirement already satisfied: six>=1.5 in /usr/local/lib/python3.10/dist-packages (from python-dateutil>=2.8.1->pandas<2.0.0,>=1.0.0->ppscore) (1.16.0)\n",
            "<class 'pandas.core.frame.DataFrame'>\n",
            "RangeIndex: 32561 entries, 0 to 32560\n",
            "Data columns (total 15 columns):\n",
            " #   Column          Non-Null Count  Dtype \n",
            "---  ------          --------------  ----- \n",
            " 0   age             32561 non-null  int64 \n",
            " 1   workclass       32561 non-null  object\n",
            " 2   fnlwgt          32561 non-null  int64 \n",
            " 3   education       32561 non-null  object\n",
            " 4   education_num   32561 non-null  int64 \n",
            " 5   marital_status  32561 non-null  object\n",
            " 6   occupation      32561 non-null  object\n",
            " 7   relationship    32561 non-null  object\n",
            " 8   race            32561 non-null  object\n",
            " 9   sex             32561 non-null  object\n",
            " 10  capital_gain    32561 non-null  int64 \n",
            " 11  capital_loss    32561 non-null  int64 \n",
            " 12  hours_per_week  32561 non-null  int64 \n",
            " 13  native_country  32561 non-null  object\n",
            " 14  income          32561 non-null  object\n",
            "dtypes: int64(6), object(9)\n",
            "memory usage: 3.7+ MB\n",
            "None\n",
            "                age        fnlwgt  education_num  capital_gain  capital_loss  \\\n",
            "count  32561.000000  3.256100e+04   32561.000000  32561.000000  32561.000000   \n",
            "mean      38.581647  1.897784e+05      10.080679   1077.648844     87.303830   \n",
            "std       13.640433  1.055500e+05       2.572720   7385.292085    402.960219   \n",
            "min       17.000000  1.228500e+04       1.000000      0.000000      0.000000   \n",
            "25%       28.000000  1.178270e+05       9.000000      0.000000      0.000000   \n",
            "50%       37.000000  1.783560e+05      10.000000      0.000000      0.000000   \n",
            "75%       48.000000  2.370510e+05      12.000000      0.000000      0.000000   \n",
            "max       90.000000  1.484705e+06      16.000000  99999.000000   4356.000000   \n",
            "\n",
            "       hours_per_week  \n",
            "count    32561.000000  \n",
            "mean        40.437456  \n",
            "std         12.347429  \n",
            "min          1.000000  \n",
            "25%         40.000000  \n",
            "50%         40.000000  \n",
            "75%         45.000000  \n",
            "max         99.000000  \n",
            "age               0\n",
            "workclass         0\n",
            "fnlwgt            0\n",
            "education         0\n",
            "education_num     0\n",
            "marital_status    0\n",
            "occupation        0\n",
            "relationship      0\n",
            "race              0\n",
            "sex               0\n",
            "capital_gain      0\n",
            "capital_loss      0\n",
            "hours_per_week    0\n",
            "native_country    0\n",
            "income            0\n",
            "dtype: int64\n"
          ]
        }
      ]
    },
    {
      "cell_type": "code",
      "source": [
        "# Handle missing values (example: imputation)\n",
        "data.fillna(data.median(), inplace=True)\n",
        "data.fillna('Unknown', inplace=True)  # for categorical variables"
      ],
      "metadata": {
        "colab": {
          "base_uri": "https://localhost:8080/"
        },
        "id": "umxRZXMFOkfs",
        "outputId": "24a75706-2a28-4588-fc77-cacfeb8ff5e9"
      },
      "execution_count": 3,
      "outputs": [
        {
          "output_type": "stream",
          "name": "stderr",
          "text": [
            "<ipython-input-3-e80d9cd9ff0c>:2: FutureWarning: The default value of numeric_only in DataFrame.median is deprecated. In a future version, it will default to False. In addition, specifying 'numeric_only=None' is deprecated. Select only valid columns or specify the value of numeric_only to silence this warning.\n",
            "  data.fillna(data.median(), inplace=True)\n"
          ]
        }
      ]
    },
    {
      "cell_type": "code",
      "source": [
        "# Scaling techniques\n",
        "numerical_features = data.select_dtypes(include=[np.number]).columns\n",
        "\n",
        "# Standard Scaling\n",
        "standard_scaler = StandardScaler()\n",
        "data[numerical_features] = standard_scaler.fit_transform(data[numerical_features])\n",
        "\n",
        "# Min-Max Scaling\n",
        "min_max_scaler = MinMaxScaler()\n",
        "data[numerical_features] = min_max_scaler.fit_transform(data[numerical_features])"
      ],
      "metadata": {
        "id": "yrWAU-8lOyb-"
      },
      "execution_count": 4,
      "outputs": []
    },
    {
      "cell_type": "code",
      "source": [
        "# Encoding techniques\n",
        "categorical_features = data.select_dtypes(include=[object]).columns\n",
        "\n",
        "# One-Hot Encoding for categorical variables with less than 5 categories\n",
        "one_hot_encoder = OneHotEncoder(drop='first')\n",
        "for feature in categorical_features:\n",
        "    if data[feature].nunique() < 5:\n",
        "        encoded = one_hot_encoder.fit_transform(data[[feature]]).toarray()\n",
        "        encoded_df = pd.DataFrame(encoded, columns=one_hot_encoder.get_feature_names_out([feature]))\n",
        "        data = pd.concat([data, encoded_df], axis=1).drop(columns=[feature])\n",
        "\n",
        "# Recalculate categorical features after one-hot encoding\n",
        "categorical_features = data.select_dtypes(include=[object]).columns # Update categorical features\n",
        "\n",
        "# Label Encoding for categorical variables with more than 5 categories\n",
        "label_encoder = LabelEncoder()\n",
        "for feature in categorical_features:\n",
        "    if data[feature].nunique() >= 5:\n",
        "        data[feature] = label_encoder.fit_transform(data[feature])"
      ],
      "metadata": {
        "id": "gygugKGLPK3_"
      },
      "execution_count": 6,
      "outputs": []
    },
    {
      "cell_type": "code",
      "source": [
        "# Feature Engineering\n",
        "# Example: creating new feature 'age_group'\n",
        "data['age_group'] = pd.cut(data['age'], bins=[0, 25, 45, 65, 100], labels=['Young', 'Adult', 'Middle Age', 'Senior'])\n",
        "\n",
        "# Check if 'hours-per-week' column exists before using it\n",
        "if 'hours-per-week' in data.columns:\n",
        "    # Example: creating new feature 'working_hours_per_week'\n",
        "    data['working_hours_per_week'] = data['hours-per-week'] * 52\n",
        "else:\n",
        "    print(\"Column 'hours-per-week' not found in the DataFrame.\")\n",
        "\n",
        "# Check if 'capital-gain' column exists before transforming\n",
        "if 'capital-gain' in data.columns:\n",
        "    # Transforming a skewed feature (example: log transformation of 'capital-gain')\n",
        "    data['capital-gain'] = np.log1p(data['capital-gain'])\n",
        "else:\n",
        "    print(\"Column 'capital-gain' not found in the DataFrame.\")\n",
        "\n",
        "# Feature Selection using Isolation Forest\n",
        "# Recalculate numerical features if necessary\n",
        "numerical_features = data.select_dtypes(include=[np.number]).columns\n",
        "isolation_forest = IsolationForest(contamination=0.01)\n",
        "outliers = isolation_forest.fit_predict(data[numerical_features])\n",
        "data = data[outliers == 1]"
      ],
      "metadata": {
        "colab": {
          "base_uri": "https://localhost:8080/"
        },
        "id": "CkJD4ePSPyBn",
        "outputId": "5235b3a7-6143-4ca5-dc16-7a52ccdb9b20"
      },
      "execution_count": 9,
      "outputs": [
        {
          "output_type": "stream",
          "name": "stdout",
          "text": [
            "Column 'hours-per-week' not found in the DataFrame.\n",
            "Column 'capital-gain' not found in the DataFrame.\n"
          ]
        },
        {
          "output_type": "stream",
          "name": "stderr",
          "text": [
            "/usr/local/lib/python3.10/dist-packages/sklearn/base.py:439: UserWarning: X does not have valid feature names, but IsolationForest was fitted with feature names\n",
            "  warnings.warn(\n"
          ]
        }
      ]
    },
    {
      "cell_type": "code",
      "source": [
        "# Predictive Power Score (PPS) Analysis\n",
        "pps_matrix = pps.matrix(data)\n",
        "print(pps_matrix[pps_matrix['ppscore'] > 0.1].head(5))  # Example threshold\n",
        "\n",
        "# Correlation matrix\n",
        "correlation_matrix = data.corr()\n",
        "print(correlation_matrix.head(5))\n",
        "\n",
        "# Aligning PPS matrix with correlation matrix\n",
        "pps_matrix_pivot = pps_matrix.pivot(index='x', columns='y', values='ppscore').fillna(0)\n",
        "aligned_correlation_matrix = correlation_matrix.reindex(index=pps_matrix_pivot.index, columns=pps_matrix_pivot.columns).fillna(0)\n",
        "\n",
        "# Comparing PPS with correlation matrix\n",
        "comparison_df = pd.DataFrame({\n",
        "    'PPS': pps_matrix_pivot.stack(),\n",
        "    'Correlation': aligned_correlation_matrix.stack()\n",
        "}).reset_index()\n",
        "\n",
        "print(comparison_df.head(5))"
      ],
      "metadata": {
        "colab": {
          "base_uri": "https://localhost:8080/"
        },
        "id": "kstyQ4vhRcMe",
        "outputId": "3af8798b-47d1-4404-bef9-beb61e31fd2b"
      },
      "execution_count": 17,
      "outputs": [
        {
          "output_type": "stream",
          "name": "stderr",
          "text": [
            "/usr/local/lib/python3.10/dist-packages/ppscore/calculation.py:104: RuntimeWarning: invalid value encountered in scalar divide\n",
            "  return f1_diff / scale_range  # 0.1/0.3 = 0.33\n",
            "/usr/local/lib/python3.10/dist-packages/ppscore/calculation.py:104: RuntimeWarning: invalid value encountered in scalar divide\n",
            "  return f1_diff / scale_range  # 0.1/0.3 = 0.33\n",
            "/usr/local/lib/python3.10/dist-packages/ppscore/calculation.py:104: RuntimeWarning: invalid value encountered in scalar divide\n",
            "  return f1_diff / scale_range  # 0.1/0.3 = 0.33\n",
            "/usr/local/lib/python3.10/dist-packages/ppscore/calculation.py:104: RuntimeWarning: invalid value encountered in scalar divide\n",
            "  return f1_diff / scale_range  # 0.1/0.3 = 0.33\n",
            "/usr/local/lib/python3.10/dist-packages/ppscore/calculation.py:104: RuntimeWarning: invalid value encountered in scalar divide\n",
            "  return f1_diff / scale_range  # 0.1/0.3 = 0.33\n",
            "/usr/local/lib/python3.10/dist-packages/ppscore/calculation.py:104: RuntimeWarning: invalid value encountered in scalar divide\n",
            "  return f1_diff / scale_range  # 0.1/0.3 = 0.33\n",
            "/usr/local/lib/python3.10/dist-packages/ppscore/calculation.py:104: RuntimeWarning: invalid value encountered in scalar divide\n",
            "  return f1_diff / scale_range  # 0.1/0.3 = 0.33\n",
            "/usr/local/lib/python3.10/dist-packages/ppscore/calculation.py:104: RuntimeWarning: invalid value encountered in scalar divide\n",
            "  return f1_diff / scale_range  # 0.1/0.3 = 0.33\n",
            "/usr/local/lib/python3.10/dist-packages/ppscore/calculation.py:104: RuntimeWarning: invalid value encountered in scalar divide\n",
            "  return f1_diff / scale_range  # 0.1/0.3 = 0.33\n",
            "/usr/local/lib/python3.10/dist-packages/ppscore/calculation.py:104: RuntimeWarning: invalid value encountered in scalar divide\n",
            "  return f1_diff / scale_range  # 0.1/0.3 = 0.33\n",
            "/usr/local/lib/python3.10/dist-packages/ppscore/calculation.py:104: RuntimeWarning: invalid value encountered in scalar divide\n",
            "  return f1_diff / scale_range  # 0.1/0.3 = 0.33\n",
            "/usr/local/lib/python3.10/dist-packages/ppscore/calculation.py:104: RuntimeWarning: invalid value encountered in scalar divide\n",
            "  return f1_diff / scale_range  # 0.1/0.3 = 0.33\n",
            "/usr/local/lib/python3.10/dist-packages/ppscore/calculation.py:104: RuntimeWarning: invalid value encountered in scalar divide\n",
            "  return f1_diff / scale_range  # 0.1/0.3 = 0.33\n",
            "/usr/local/lib/python3.10/dist-packages/ppscore/calculation.py:104: RuntimeWarning: invalid value encountered in scalar divide\n",
            "  return f1_diff / scale_range  # 0.1/0.3 = 0.33\n",
            "/usr/local/lib/python3.10/dist-packages/ppscore/calculation.py:104: RuntimeWarning: invalid value encountered in scalar divide\n",
            "  return f1_diff / scale_range  # 0.1/0.3 = 0.33\n"
          ]
        },
        {
          "output_type": "stream",
          "name": "stdout",
          "text": [
            "            x               y   ppscore            case  is_valid_score  \\\n",
            "0         age             age  1.000000  predict_itself            True   \n",
            "5         age  marital_status  0.158093      regression            True   \n",
            "17  workclass       workclass  1.000000  predict_itself            True   \n",
            "22  workclass      occupation  0.109100      regression            True   \n",
            "34     fnlwgt          fnlwgt  1.000000  predict_itself            True   \n",
            "\n",
            "                 metric  baseline_score  model_score                    model  \n",
            "0                  None          0.0000     1.000000                     None  \n",
            "5   mean absolute error          1.1494     0.967688  DecisionTreeRegressor()  \n",
            "17                 None          0.0000     1.000000                     None  \n",
            "22  mean absolute error          3.7052     3.300962  DecisionTreeRegressor()  \n",
            "34                 None          0.0000     1.000000                     None  \n",
            "                    age  workclass    fnlwgt  education  education_num  \\\n",
            "age            1.000000   0.011950 -0.075667  -0.007387       0.039361   \n",
            "workclass      0.011950   1.000000 -0.017084   0.007156       0.039692   \n",
            "fnlwgt        -0.075667  -0.017084  1.000000  -0.028566      -0.045278   \n",
            "education     -0.007387   0.007156 -0.028566   1.000000       0.348292   \n",
            "education_num  0.039361   0.039692 -0.045278   0.348292       1.000000   \n",
            "\n",
            "               marital_status  occupation  relationship      race  \\\n",
            "age                 -0.278215   -0.016875     -0.273106  0.037027   \n",
            "workclass           -0.059784    0.240086     -0.088566  0.037618   \n",
            "fnlwgt               0.028057    0.000079      0.005593 -0.024083   \n",
            "education           -0.034764   -0.028893     -0.003500 -0.004004   \n",
            "education_num       -0.063609    0.104009     -0.094917  0.027962   \n",
            "\n",
            "               capital_gain  capital_loss  hours_per_week  native_country  \\\n",
            "age                0.074729      0.048231        0.078786        0.012543   \n",
            "workclass          0.035851      0.015383        0.130372       -0.011934   \n",
            "fnlwgt            -0.002266     -0.008830       -0.021555       -0.056147   \n",
            "education          0.030834      0.018311        0.052207        0.057705   \n",
            "education_num      0.119512      0.072849        0.146242        0.056854   \n",
            "\n",
            "               sex_ Male  income_ >50K  \n",
            "age             0.096502      0.233969  \n",
            "workclass       0.091179      0.048465  \n",
            "fnlwgt          0.028963     -0.008521  \n",
            "education      -0.036402      0.075916  \n",
            "education_num   0.006851      0.328947  \n",
            "     x             y  PPS  Correlation\n",
            "0  age           age  1.0     1.000000\n",
            "1  age     age_group  0.0     0.000000\n",
            "2  age  capital_gain  0.0     0.074729\n",
            "3  age  capital_loss  0.0     0.048231\n",
            "4  age     education  0.0    -0.007387\n"
          ]
        },
        {
          "output_type": "stream",
          "name": "stderr",
          "text": [
            "<ipython-input-17-29ae125c0c3f>:6: FutureWarning: The default value of numeric_only in DataFrame.corr is deprecated. In a future version, it will default to False. Select only valid columns or specify the value of numeric_only to silence this warning.\n",
            "  correlation_matrix = data.corr()\n"
          ]
        }
      ]
    }
  ]
}