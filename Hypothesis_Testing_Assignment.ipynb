{
  "nbformat": 4,
  "nbformat_minor": 0,
  "metadata": {
    "colab": {
      "provenance": []
    },
    "kernelspec": {
      "name": "python3",
      "display_name": "Python 3"
    },
    "language_info": {
      "name": "python"
    }
  },
  "cells": [
    {
      "cell_type": "code",
      "execution_count": 2,
      "metadata": {
        "colab": {
          "base_uri": "https://localhost:8080/"
        },
        "id": "qOGO7ms8nKBt",
        "outputId": "5e2ab463-4143-4157-f0ac-6be6ad97833e"
      },
      "outputs": [
        {
          "output_type": "stream",
          "name": "stdout",
          "text": [
            "Given Data:\n",
            "Sample mean weekly cost: 3050\n",
            "Theoretical mean weekly cost: 4000\n",
            "Standard deviation of the weekly cost: 125\n",
            "Sample size: 25\n",
            "\n",
            "Test Statistic (t): -38.0\n",
            "Critical Value at alpha = 0.05: 1.6448536269514722\n",
            "\n",
            "Decision:\n",
            "Fail to reject the null hypothesis.\n",
            "There is not enough evidence to support the claim that the weekly operating costs are higher than the model suggests.\n",
            "\n",
            "Conclusion:\n",
            "There is not enough evidence to support the restaurant owners' claim that the weekly operating costs are higher than the model suggests.\n"
          ]
        }
      ],
      "source": [
        "import scipy.stats as stats\n",
        "import numpy as np\n",
        "\n",
        "# Step 1: State the Hypotheses\n",
        "# Null Hypothesis (H0): The mean weekly operating cost is equal to the theoretical cost model.\n",
        "# Alternative Hypothesis (H1): The mean weekly operating cost is greater than the theoretical cost model.\n",
        "\n",
        "# Given data\n",
        "sample_mean = 3050  # Sample mean weekly cost\n",
        "theoretical_mean = 1000 + 5 * 600  # Theoretical mean weekly cost based on the cost model\n",
        "sigma = 5 * 25  # Standard deviation of the weekly cost\n",
        "sample_size = 25  # Sample size\n",
        "\n",
        "# Print the given data\n",
        "print(\"Given Data:\")\n",
        "print(f\"Sample mean weekly cost: {sample_mean}\")\n",
        "print(f\"Theoretical mean weekly cost: {theoretical_mean}\")\n",
        "print(f\"Standard deviation of the weekly cost: {sigma}\")\n",
        "print(f\"Sample size: {sample_size}\")\n",
        "\n",
        "# Step 2: Calculate the Test Statistic\n",
        "# Use the formula for the test statistic (t)\n",
        "# t = (x̄ - μ) / (σ / sqrt(n))\n",
        "test_statistic = (sample_mean - theoretical_mean) / (sigma / np.sqrt(sample_size))\n",
        "\n",
        "# Print the test statistic\n",
        "print(f\"\\nTest Statistic (t): {test_statistic}\")\n",
        "\n",
        "# Step 3: Determine the Critical Value\n",
        "# Using the alpha level of 5% (α = 0.05) and a one-tailed test\n",
        "alpha = 0.05\n",
        "critical_value = stats.norm.ppf(1 - alpha)\n",
        "\n",
        "# Print the critical value\n",
        "print(f\"Critical Value at alpha = 0.05: {critical_value}\")\n",
        "\n",
        "# Step 4: Make a Decision\n",
        "# Compare the test statistic with the critical value\n",
        "print(\"\\nDecision:\")\n",
        "if test_statistic > critical_value:\n",
        "    print(\"Reject the null hypothesis.\")\n",
        "    print(\"There is strong evidence to support the claim that the weekly operating costs are higher than the model suggests.\")\n",
        "else:\n",
        "    print(\"Fail to reject the null hypothesis.\")\n",
        "    print(\"There is not enough evidence to support the claim that the weekly operating costs are higher than the model suggests.\")\n",
        "\n",
        "# Step 5: Conclusion\n",
        "print(\"\\nConclusion:\")\n",
        "if test_statistic > critical_value:\n",
        "    conclusion = \"There is strong evidence to support the restaurant owners' claim that the weekly operating costs are higher than the model suggests.\"\n",
        "else:\n",
        "    conclusion = \"There is not enough evidence to support the restaurant owners' claim that the weekly operating costs are higher than the model suggests.\"\n",
        "\n",
        "print(conclusion)\n"
      ]
    },
    {
      "cell_type": "code",
      "source": [
        "sample_mean = 3050  # Sample mean weekly cost\n",
        "theoretical_mean = 1000 + 5 * 600  # Theoretical mean weekly cost based on the cost model\n",
        "sigma = 5 * 25  # Standard deviation of the weekly cost\n",
        "sample_size = 25  # Sample size\n",
        "\n",
        "print(\"Given Data:\")\n",
        "print(f\"Sample mean weekly cost: {sample_mean}\")\n",
        "print(f\"Theoretical mean weekly cost: {theoretical_mean}\")\n",
        "print(f\"Standard deviation of the weekly cost: {sigma}\")\n",
        "print(f\"Sample size: {sample_size}\")\n"
      ],
      "metadata": {
        "colab": {
          "base_uri": "https://localhost:8080/"
        },
        "id": "9khMnKWwlsuw",
        "outputId": "aa8935b0-8b6e-43bb-f858-2d897a588ce8"
      },
      "execution_count": 1,
      "outputs": [
        {
          "output_type": "stream",
          "name": "stdout",
          "text": [
            "Given Data:\n",
            "Sample mean weekly cost: 3050\n",
            "Theoretical mean weekly cost: 4000\n",
            "Standard deviation of the weekly cost: 125\n",
            "Sample size: 25\n"
          ]
        }
      ]
    },
    {
      "cell_type": "code",
      "source": [
        "# Use the formula for the test statistic (t)\n",
        "# t = (x̄ - μ) / (σ / sqrt(n))\n",
        "test_statistic = (sample_mean - theoretical_mean) / (sigma / np.sqrt(sample_size))\n",
        "\n",
        "# Print the test statistic\n",
        "print(f\"\\nTest Statistic (t): {test_statistic}\")\n"
      ],
      "metadata": {
        "colab": {
          "base_uri": "https://localhost:8080/"
        },
        "id": "zcspo97rmghB",
        "outputId": "f430d0bb-1119-44ed-fb04-4a7cc0612596"
      },
      "execution_count": 3,
      "outputs": [
        {
          "output_type": "stream",
          "name": "stdout",
          "text": [
            "\n",
            "Test Statistic (t): -38.0\n"
          ]
        }
      ]
    },
    {
      "cell_type": "code",
      "source": [
        "# Using the alpha level of 5% (α = 0.05) and a one-tailed test\n",
        "alpha = 0.05\n",
        "critical_value = stats.norm.ppf(1 - alpha)\n",
        "\n",
        "# Print the critical value\n",
        "print(f\"Critical Value at alpha = 0.05: {critical_value}\")\n"
      ],
      "metadata": {
        "colab": {
          "base_uri": "https://localhost:8080/"
        },
        "id": "5KI99xN8nonj",
        "outputId": "6e430bc6-4013-4fcb-eba7-600700ba9e56"
      },
      "execution_count": 4,
      "outputs": [
        {
          "output_type": "stream",
          "name": "stdout",
          "text": [
            "Critical Value at alpha = 0.05: 1.6448536269514722\n"
          ]
        }
      ]
    },
    {
      "cell_type": "code",
      "source": [
        "print(\"\\nDecision:\")\n",
        "if test_statistic > critical_value:\n",
        "    print(\"Reject the null hypothesis.\")\n",
        "    print(\"There is strong evidence to support the claim that the weekly operating costs are higher than the model suggests.\")\n",
        "else:\n",
        "    print(\"Fail to reject the null hypothesis.\")\n",
        "    print(\"There is not enough evidence to support the claim that the weekly operating costs are higher than the model suggests.\")\n"
      ],
      "metadata": {
        "colab": {
          "base_uri": "https://localhost:8080/"
        },
        "id": "s6S61THVomsK",
        "outputId": "2e94f8d0-d148-41dc-8d2d-a618762b3306"
      },
      "execution_count": 5,
      "outputs": [
        {
          "output_type": "stream",
          "name": "stdout",
          "text": [
            "\n",
            "Decision:\n",
            "Fail to reject the null hypothesis.\n",
            "There is not enough evidence to support the claim that the weekly operating costs are higher than the model suggests.\n"
          ]
        }
      ]
    },
    {
      "cell_type": "code",
      "source": [
        "print(\"\\nConclusion:\")\n",
        "if test_statistic > critical_value:\n",
        "    conclusion = \"There is strong evidence to support the restaurant owners' claim that the weekly operating costs are higher than the model suggests.\"\n",
        "else:\n",
        "    conclusion = \"There is not enough evidence to support the restaurant owners' claim that the weekly operating costs are higher than the model suggests.\"\n",
        "\n",
        "print(conclusion)\n"
      ],
      "metadata": {
        "colab": {
          "base_uri": "https://localhost:8080/"
        },
        "id": "9Ag3JDaipjtp",
        "outputId": "402fe038-c04e-40c8-9557-f91bf2b31758"
      },
      "execution_count": 6,
      "outputs": [
        {
          "output_type": "stream",
          "name": "stdout",
          "text": [
            "\n",
            "Conclusion:\n",
            "There is not enough evidence to support the restaurant owners' claim that the weekly operating costs are higher than the model suggests.\n"
          ]
        }
      ]
    }
  ]
}