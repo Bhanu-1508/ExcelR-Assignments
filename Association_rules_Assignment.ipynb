{
  "nbformat": 4,
  "nbformat_minor": 0,
  "metadata": {
    "colab": {
      "provenance": []
    },
    "kernelspec": {
      "name": "python3",
      "display_name": "Python 3"
    },
    "language_info": {
      "name": "python"
    }
  },
  "cells": [
    {
      "cell_type": "code",
      "source": [
        "import pandas as pd\n",
        "\n",
        "# Load the dataset\n",
        "file_path = '/content/Online retail.xlsx'\n",
        "data = pd.read_excel(file_path, header=None)\n",
        "\n",
        "# Display the first few rows to understand its structure\n",
        "print(data.head())\n"
      ],
      "metadata": {
        "colab": {
          "base_uri": "https://localhost:8080/"
        },
        "id": "uEycqFnwcO2X",
        "outputId": "8e478264-5e86-46b6-c294-cef80a7fb476"
      },
      "execution_count": 8,
      "outputs": [
        {
          "output_type": "stream",
          "name": "stderr",
          "text": [
            "/usr/local/lib/python3.10/dist-packages/ipykernel/ipkernel.py:283: DeprecationWarning: `should_run_async` will not call `transform_cell` automatically in the future. Please pass the result to `transformed_cell` argument and any exception that happen during thetransform in `preprocessing_exc_tuple` in IPython 7.17 and above.\n",
            "  and should_run_async(code)\n"
          ]
        },
        {
          "output_type": "stream",
          "name": "stdout",
          "text": [
            "                                                   0\n",
            "0  shrimp,almonds,avocado,vegetables mix,green gr...\n",
            "1                             burgers,meatballs,eggs\n",
            "2                                            chutney\n",
            "3                                     turkey,avocado\n",
            "4  mineral water,milk,energy bar,whole wheat rice...\n"
          ]
        }
      ]
    },
    {
      "cell_type": "code",
      "source": [
        "# Rename the column to something generic since it represents transactions\n",
        "data.columns = ['Transaction']\n",
        "\n",
        "# Split the items in each transaction to create a list of lists\n",
        "transactions = data['Transaction'].apply(lambda x: x.split(','))\n",
        "\n",
        "# Display the first few transactions\n",
        "print(transactions.head())\n"
      ],
      "metadata": {
        "colab": {
          "base_uri": "https://localhost:8080/"
        },
        "id": "OUd4pCDlcXqc",
        "outputId": "e78ed611-23cd-48ee-c72c-c55e2eb33200"
      },
      "execution_count": 9,
      "outputs": [
        {
          "output_type": "stream",
          "name": "stdout",
          "text": [
            "0    [shrimp, almonds, avocado, vegetables mix, gre...\n",
            "1                           [burgers, meatballs, eggs]\n",
            "2                                            [chutney]\n",
            "3                                    [turkey, avocado]\n",
            "4    [mineral water, milk, energy bar, whole wheat ...\n",
            "Name: Transaction, dtype: object\n"
          ]
        },
        {
          "output_type": "stream",
          "name": "stderr",
          "text": [
            "/usr/local/lib/python3.10/dist-packages/ipykernel/ipkernel.py:283: DeprecationWarning: `should_run_async` will not call `transform_cell` automatically in the future. Please pass the result to `transformed_cell` argument and any exception that happen during thetransform in `preprocessing_exc_tuple` in IPython 7.17 and above.\n",
            "  and should_run_async(code)\n"
          ]
        }
      ]
    },
    {
      "cell_type": "code",
      "source": [
        "from mlxtend.preprocessing import TransactionEncoder\n",
        "from mlxtend.frequent_patterns import apriori, association_rules\n",
        "\n",
        "# Initialize the transaction encoder\n",
        "te = TransactionEncoder()\n",
        "\n",
        "# Fit and transform the transactions data\n",
        "te_ary = te.fit(transactions).transform(transactions)\n",
        "\n",
        "# Convert the array into a DataFrame\n",
        "df = pd.DataFrame(te_ary, columns=te.columns_)\n",
        "\n",
        "# Apply the Apriori algorithm\n",
        "frequent_itemsets = apriori(df, min_support=0.01, use_colnames=True)\n",
        "\n",
        "# Generate the association rules\n",
        "rules = association_rules(frequent_itemsets, metric=\"lift\", min_threshold=1)\n",
        "rules = rules[['antecedents', 'consequents', 'support', 'confidence', 'lift']]\n",
        "\n",
        "# Display the rules\n",
        "print(rules.head())\n",
        "\n",
        "# Display the top 10 rules sorted by lift\n",
        "top_rules = rules.sort_values('lift', ascending=False).head(10)\n",
        "print(top_rules)\n"
      ],
      "metadata": {
        "colab": {
          "base_uri": "https://localhost:8080/"
        },
        "id": "-OcatP6WcfjT",
        "outputId": "f0cfaec6-2e18-4f8b-b25c-951bca56fabf"
      },
      "execution_count": 10,
      "outputs": [
        {
          "output_type": "stream",
          "name": "stdout",
          "text": [
            "       antecedents      consequents   support  confidence      lift\n",
            "0  (mineral water)        (avocado)  0.011598    0.048658  1.459926\n",
            "1        (avocado)  (mineral water)  0.011598    0.348000  1.459926\n",
            "2           (cake)        (burgers)  0.011465    0.141447  1.622319\n",
            "3        (burgers)           (cake)  0.011465    0.131498  1.622319\n",
            "4      (chocolate)        (burgers)  0.017064    0.104150  1.194537\n",
            "                    antecedents                 consequents   support  \\\n",
            "215             (herb & pepper)               (ground beef)  0.015998   \n",
            "214               (ground beef)             (herb & pepper)  0.015998   \n",
            "385               (ground beef)  (mineral water, spaghetti)  0.017064   \n",
            "384  (mineral water, spaghetti)               (ground beef)  0.017064   \n",
            "396  (mineral water, spaghetti)                 (olive oil)  0.010265   \n",
            "397                 (olive oil)  (mineral water, spaghetti)  0.010265   \n",
            "193         (frozen vegetables)                  (tomatoes)  0.016131   \n",
            "192                  (tomatoes)         (frozen vegetables)  0.016131   \n",
            "188                    (shrimp)         (frozen vegetables)  0.016664   \n",
            "189         (frozen vegetables)                    (shrimp)  0.016664   \n",
            "\n",
            "     confidence      lift  \n",
            "215    0.323450  3.291994  \n",
            "214    0.162822  3.291994  \n",
            "385    0.173677  2.907928  \n",
            "384    0.285714  2.907928  \n",
            "396    0.171875  2.609786  \n",
            "397    0.155870  2.609786  \n",
            "193    0.169231  2.474464  \n",
            "192    0.235867  2.474464  \n",
            "188    0.233209  2.446574  \n",
            "189    0.174825  2.446574  \n"
          ]
        },
        {
          "output_type": "stream",
          "name": "stderr",
          "text": [
            "/usr/local/lib/python3.10/dist-packages/ipykernel/ipkernel.py:283: DeprecationWarning: `should_run_async` will not call `transform_cell` automatically in the future. Please pass the result to `transformed_cell` argument and any exception that happen during thetransform in `preprocessing_exc_tuple` in IPython 7.17 and above.\n",
            "  and should_run_async(code)\n"
          ]
        }
      ]
    }
  ]
}