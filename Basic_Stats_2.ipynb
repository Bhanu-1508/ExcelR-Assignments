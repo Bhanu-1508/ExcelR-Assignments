{
  "nbformat": 4,
  "nbformat_minor": 0,
  "metadata": {
    "colab": {
      "provenance": []
    },
    "kernelspec": {
      "name": "python3",
      "display_name": "Python 3"
    },
    "language_info": {
      "name": "python"
    }
  },
  "cells": [
    {
      "cell_type": "markdown",
      "source": [],
      "metadata": {
        "id": "aNLA-1Qcs-Yh"
      }
    },
    {
      "cell_type": "code",
      "source": [
        "import numpy as np\n",
        "import scipy.stats as stats\n",
        "\n",
        "# Durability data (in millions of characters)\n",
        "data = [1.13, 1.55, 1.43, 0.92, 1.25, 1.36, 1.32, 0.85, 1.07, 1.48, 1.20, 1.33, 1.18, 1.22, 1.29]\n",
        "\n",
        "# Sample size\n",
        "n = len(data)\n",
        "\n",
        "# Sample mean\n",
        "sample_mean = np.mean(data)\n",
        "\n",
        "# Sample standard deviation\n",
        "sample_std = np.std(data, ddof=1)\n",
        "\n",
        "# Degrees of freedom\n",
        "df = n - 1\n",
        "\n",
        "# a. Build 99% Confidence Interval Using Sample Standard Deviation\n",
        "\n",
        "# t-score for 99% confidence interval and df degrees of freedom\n",
        "t_score = stats.t.ppf(1 - 0.005, df)\n",
        "\n",
        "# Margin of error\n",
        "margin_of_error = t_score * (sample_std / np.sqrt(n))\n",
        "\n",
        "# Confidence interval\n",
        "ci_lower = sample_mean - margin_of_error\n",
        "ci_upper = sample_mean + margin_of_error\n",
        "\n",
        "print(f\"99% Confidence Interval using sample standard deviation: ({ci_lower:.4f}, {ci_upper:.4f})\")\n",
        "\n",
        "# b. Build 99% Confidence Interval Using Known Population Standard Deviation\n",
        "\n",
        "# Known population standard deviation\n",
        "population_std = 0.2\n",
        "\n",
        "# z-score for 99% confidence interval\n",
        "z_score = stats.norm.ppf(1 - 0.005)\n",
        "\n",
        "# Margin of error\n",
        "margin_of_error_known = z_score * (population_std / np.sqrt(n))\n",
        "\n",
        "# Confidence interval\n",
        "ci_lower_known = sample_mean - margin_of_error_known\n",
        "ci_upper_known = sample_mean + margin_of_error_known\n",
        "\n",
        "print(f\"99% Confidence Interval using known population standard deviation: ({ci_lower_known:.4f}, {ci_upper_known:.4f})\")\n"
      ],
      "metadata": {
        "colab": {
          "base_uri": "https://localhost:8080/"
        },
        "id": "yTilpEBytxpO",
        "outputId": "826e52d6-0af9-4f81-df67-8c5f97fa7c9a"
      },
      "execution_count": 1,
      "outputs": [
        {
          "output_type": "stream",
          "name": "stdout",
          "text": [
            "99% Confidence Interval using sample standard deviation: (1.0902, 1.3871)\n",
            "99% Confidence Interval using known population standard deviation: (1.1057, 1.3717)\n"
          ]
        }
      ]
    }
  ]
}