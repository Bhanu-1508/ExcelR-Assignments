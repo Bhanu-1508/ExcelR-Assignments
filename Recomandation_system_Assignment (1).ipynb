{
  "nbformat": 4,
  "nbformat_minor": 0,
  "metadata": {
    "colab": {
      "provenance": []
    },
    "kernelspec": {
      "name": "python3",
      "display_name": "Python 3"
    },
    "language_info": {
      "name": "python"
    }
  },
  "cells": [
    {
      "cell_type": "code",
      "source": [
        "import pandas as pd\n",
        "from sklearn.preprocessing import OneHotEncoder, StandardScaler\n",
        "from sklearn.metrics.pairwise import cosine_similarity\n",
        "import numpy as np\n",
        "\n",
        "# Load the dataset\n",
        "file_path = '/content/anime.csv'\n",
        "anime_df = pd.read_csv(file_path)\n",
        "\n",
        "# Display the column names and the first few rows of the dataset\n",
        "print(anime_df.columns)\n",
        "print(anime_df.head())"
      ],
      "metadata": {
        "colab": {
          "base_uri": "https://localhost:8080/"
        },
        "id": "36KehhjrmaTo",
        "outputId": "20eb9b78-0217-458a-8bb6-6775d639851c"
      },
      "execution_count": 11,
      "outputs": [
        {
          "output_type": "stream",
          "name": "stdout",
          "text": [
            "Index(['anime_id', 'name', 'genre', 'type', 'episodes', 'rating', 'members'], dtype='object')\n",
            "   anime_id                              name  \\\n",
            "0     32281                    Kimi no Na wa.   \n",
            "1      5114  Fullmetal Alchemist: Brotherhood   \n",
            "2     28977                          Gintama°   \n",
            "3      9253                       Steins;Gate   \n",
            "4      9969                     Gintama&#039;   \n",
            "\n",
            "                                               genre   type episodes  rating  \\\n",
            "0               Drama, Romance, School, Supernatural  Movie        1    9.37   \n",
            "1  Action, Adventure, Drama, Fantasy, Magic, Mili...     TV       64    9.26   \n",
            "2  Action, Comedy, Historical, Parody, Samurai, S...     TV       51    9.25   \n",
            "3                                   Sci-Fi, Thriller     TV       24    9.17   \n",
            "4  Action, Comedy, Historical, Parody, Samurai, S...     TV       51    9.16   \n",
            "\n",
            "   members  \n",
            "0   200630  \n",
            "1   793665  \n",
            "2   114262  \n",
            "3   673572  \n",
            "4   151266  \n"
          ]
        }
      ]
    },
    {
      "cell_type": "code",
      "source": [
        "# Handling missing values for 'genre' and 'rating'\n",
        "anime_df['genre'] = anime_df['genre'].fillna(anime_df['genre'].mode()[0])\n",
        "anime_df['rating'] = anime_df['rating'].fillna(anime_df['rating'].mean())\n",
        "\n",
        "# Preprocessing the 'episodes' column\n",
        "anime_df['episodes'] = pd.to_numeric(anime_df['episodes'], errors='coerce')\n",
        "anime_df['episodes'] = anime_df['episodes'].fillna(anime_df['episodes'].median())\n",
        "\n",
        "# One-hot encode the genres\n",
        "one_hot_encoder = OneHotEncoder()\n",
        "genre_encoded = one_hot_encoder.fit_transform(anime_df[['genre']]).toarray()\n",
        "\n",
        "# Standardize the ratings and episodes\n",
        "scaler = StandardScaler()\n",
        "ratings_scaled = scaler.fit_transform(anime_df[['rating']])\n",
        "episodes_scaled = scaler.fit_transform(anime_df[['episodes']])\n",
        "\n",
        "# Combine the features into a single feature set\n",
        "features = np.hstack((genre_encoded, ratings_scaled, episodes_scaled))\n",
        "\n",
        "# Calculate cosine similarity matrix\n",
        "cosine_sim = cosine_similarity(features)\n"
      ],
      "metadata": {
        "id": "RhFu_wTrnRsh"
      },
      "execution_count": 12,
      "outputs": []
    },
    {
      "cell_type": "code",
      "source": [
        "# Function to get recommendations\n",
        "def get_recommendations(name, cosine_sim=cosine_sim, num_recommendations=10, similarity_threshold=0.5):\n",
        "    if name not in anime_df['name'].values:\n",
        "        return f\"Anime '{name}' not found in the dataset.\"\n",
        "\n",
        "    # Get the index of the anime that matches the title\n",
        "    idx = anime_df[anime_df['name'] == name].index[0]\n",
        "\n",
        "    # Get the pairwise similarity scores of all anime with that anime\n",
        "    sim_scores = list(enumerate(cosine_sim[idx]))\n",
        "\n",
        "    # Filter out anime with similarity scores below the threshold\n",
        "    sim_scores = [score for score in sim_scores if score[1] >= similarity_threshold]\n",
        "\n",
        "    # Sort the anime based on the similarity scores\n",
        "    sim_scores = sorted(sim_scores, key=lambda x: x[1], reverse=True)\n",
        "\n",
        "    # Get the scores of the most similar anime\n",
        "    sim_scores = sim_scores[1:num_recommendations + 1]\n",
        "\n",
        "    # Get the anime indices\n",
        "    anime_indices = [i[0] for i in sim_scores]\n",
        "\n",
        "    # Return the most similar anime\n",
        "    return anime_df['name'].iloc[anime_indices]\n",
        "\n",
        "# Test the recommendation system\n",
        "print(get_recommendations('Naruto'))"
      ],
      "metadata": {
        "colab": {
          "base_uri": "https://localhost:8080/"
        },
        "id": "GHGJba3RnZl2",
        "outputId": "6f38e0cb-ef85-47ac-bc6f-d4dea9664ca9"
      },
      "execution_count": 13,
      "outputs": [
        {
          "output_type": "stream",
          "name": "stdout",
          "text": [
            "206                                         Dragon Ball Z\n",
            "582                                                Bleach\n",
            "628                                         Keroro Gunsou\n",
            "816     Kochira Katsushikaku Kameari Kouenmae Hashutsu...\n",
            "1834                                              Pokemon\n",
            "1960                                     Atashin&#039;chi\n",
            "1371                              Yu☆Gi☆Oh! Duel Monsters\n",
            "8992                           Itazura Tenshi Chippo-chan\n",
            "2362                                Dr. Slump: Arale-chan\n",
            "907                                        Urusei Yatsura\n",
            "Name: name, dtype: object\n"
          ]
        }
      ]
    },
    {
      "cell_type": "code",
      "source": [
        "# Evaluation Function\n",
        "from sklearn.model_selection import train_test_split\n",
        "\n",
        "def evaluate_recommendation_system(anime_df, cosine_sim, num_recommendations=10):\n",
        "    # Split the data into training and testing sets\n",
        "    train_df, test_df = train_test_split(anime_df, test_size=0.2, random_state=42)\n",
        "\n",
        "    # Placeholder lists for true positives, false positives, and false negatives\n",
        "    true_positives = []\n",
        "    false_positives = []\n",
        "    false_negatives = []\n",
        "\n",
        "    for name in test_df['name']:\n",
        "        recommendations = get_recommendations(name, cosine_sim=cosine_sim, num_recommendations=num_recommendations)\n",
        "        if not isinstance(recommendations, pd.Series):\n",
        "            continue\n",
        "\n",
        "        actual_genres = set(anime_df[anime_df['name'] == name]['genre'].values[0].split(', '))\n",
        "        recommended_genres = set()\n",
        "        for rec in recommendations:\n",
        "            recommended_genres.update(anime_df[anime_df['name'] == rec]['genre'].values[0].split(', '))\n",
        "\n",
        "        # Calculate true positives, false positives, and false negatives\n",
        "        tp = len(actual_genres & recommended_genres)\n",
        "        fp = len(recommended_genres - actual_genres)\n",
        "        fn = len(actual_genres - recommended_genres)\n",
        "\n",
        "        true_positives.append(tp)\n",
        "        false_positives.append(fp)\n",
        "        false_negatives.append(fn)\n",
        "\n",
        "    # Calculate precision, recall, and F1 score\n",
        "    tp_sum = sum(true_positives) # This line was incorrectly indented\n",
        "    fp_sum = sum(false_positives)\n",
        "    fn_sum = sum(false_negatives)\n",
        "\n",
        "    precision = tp_sum / (tp_sum + fp_sum) if (tp_sum + fp_sum) > 0 else 0\n",
        "    recall = tp_sum / (tp_sum + fn_sum) if (tp_sum + fn_sum) > 0 else 0\n",
        "    f1 = 2 * (precision * recall) / (precision + recall) if (precision + recall) > 0 else 0\n",
        "\n",
        "    return precision, recall, f1\n",
        "\n",
        "# Evaluate the recommendation system\n",
        "precision, recall, f1 = evaluate_recommendation_system(anime_df, cosine_sim)\n",
        "print(f'Precision: {precision:.2f}, Recall: {recall:.2f}, F1 Score: {f1:.2f}')"
      ],
      "metadata": {
        "colab": {
          "base_uri": "https://localhost:8080/"
        },
        "id": "D3EhK0W-oXOT",
        "outputId": "152be584-f4c7-4d65-8ded-e22d98adf883"
      },
      "execution_count": 22,
      "outputs": [
        {
          "output_type": "stream",
          "name": "stdout",
          "text": [
            "Precision: 0.41, Recall: 0.83, F1 Score: 0.55\n"
          ]
        }
      ]
    }
  ]
}