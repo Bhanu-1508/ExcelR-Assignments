{
  "nbformat": 4,
  "nbformat_minor": 0,
  "metadata": {
    "colab": {
      "provenance": []
    },
    "kernelspec": {
      "name": "python3",
      "display_name": "Python 3"
    },
    "language_info": {
      "name": "python"
    }
  },
  "cells": [
    {
      "cell_type": "code",
      "source": [
        "#Import Library\n",
        "import numpy as np\n",
        "import scipy.stats as stats\n"
      ],
      "metadata": {
        "id": "OuN5nvFAaFNR"
      },
      "execution_count": 3,
      "outputs": []
    },
    {
      "cell_type": "markdown",
      "source": [
        "# Null Hypothesis (H0): There is no significant association between the type of device purchased and customer satisfaction level.\n",
        "# Alternative Hypothesis (H1): There is a significant association between the type of device purchased and customer satisfaction level.\n"
      ],
      "metadata": {
        "id": "yytaHPoOaTJa"
      }
    },
    {
      "cell_type": "code",
      "source": [
        "observed = np.array([\n",
        "    [50, 70],  # Very Satisfied\n",
        "    [80, 100], # Satisfied\n",
        "    [60, 90],  # Neutral\n",
        "    [30, 50],  # Unsatisfied\n",
        "    [20, 50]   # Very Unsatisfied\n",
        "])\n",
        "\n",
        "print(\"Observed Frequency Table:\")\n",
        "print(observed)\n"
      ],
      "metadata": {
        "colab": {
          "base_uri": "https://localhost:8080/"
        },
        "id": "tZWRDLYtaU-6",
        "outputId": "42116c22-a503-4237-e78e-13a416428d3c"
      },
      "execution_count": 4,
      "outputs": [
        {
          "output_type": "stream",
          "name": "stdout",
          "text": [
            "Observed Frequency Table:\n",
            "[[ 50  70]\n",
            " [ 80 100]\n",
            " [ 60  90]\n",
            " [ 30  50]\n",
            " [ 20  50]]\n"
          ]
        }
      ]
    },
    {
      "cell_type": "code",
      "source": [
        "chi2, p, dof, expected = stats.chi2_contingency(observed)\n",
        "\n",
        "print(\"\\nExpected Frequency Table:\")\n",
        "print(expected)\n"
      ],
      "metadata": {
        "colab": {
          "base_uri": "https://localhost:8080/"
        },
        "id": "DG23JjegacVr",
        "outputId": "9e27ab7f-5fa5-431e-d541-87f041bfac3f"
      },
      "execution_count": 5,
      "outputs": [
        {
          "output_type": "stream",
          "name": "stdout",
          "text": [
            "\n",
            "Expected Frequency Table:\n",
            "[[ 48.  72.]\n",
            " [ 72. 108.]\n",
            " [ 60.  90.]\n",
            " [ 32.  48.]\n",
            " [ 28.  42.]]\n"
          ]
        }
      ]
    },
    {
      "cell_type": "markdown",
      "source": [
        "Use chi2_contingency from scipy.stats to compute the Chi-Square statistic, p-value, degrees of freedom (dof), and expected frequencies.\n",
        "Print the expected frequency table"
      ],
      "metadata": {
        "id": "s78eHmbjaojq"
      }
    },
    {
      "cell_type": "code",
      "source": [
        "alpha = 0.05\n",
        "critical_value = stats.chi2.ppf(1 - alpha, dof)\n"
      ],
      "metadata": {
        "id": "jDhhKTCpaoB6"
      },
      "execution_count": 10,
      "outputs": []
    },
    {
      "cell_type": "code",
      "source": [
        "print(f\"\\nChi-Square Statistic: {chi2}\")\n",
        "print(f\"Degrees of Freedom: {dof}\")\n",
        "print(f\"Critical Value at alpha = 0.05: {critical_value}\")\n",
        "print(f\"P-Value: {p}\")\n",
        "\n",
        "if chi2 > critical_value:\n",
        "    print(\"\\nDecision: Reject the null hypothesis.\")\n",
        "    print(\"There is a significant association between the type of device purchased and customer satisfaction level.\")\n",
        "else:\n",
        "    print(\"\\nDecision: Fail to reject the null hypothesis.\")\n",
        "    print(\"There is no significant association between the type of device purchased and customer satisfaction level.\")\n"
      ],
      "metadata": {
        "colab": {
          "base_uri": "https://localhost:8080/"
        },
        "id": "hXLWvE9La0Mr",
        "outputId": "9614cc79-70ad-4792-bd48-c30f598f5447"
      },
      "execution_count": 9,
      "outputs": [
        {
          "output_type": "stream",
          "name": "stdout",
          "text": [
            "\n",
            "Chi-Square Statistic: 5.638227513227513\n",
            "Degrees of Freedom: 4\n",
            "Critical Value at alpha = 0.05: 9.487729036781154\n",
            "P-Value: 0.22784371130697179\n",
            "\n",
            "Decision: Fail to reject the null hypothesis.\n",
            "There is no significant association between the type of device purchased and customer satisfaction level.\n"
          ]
        }
      ]
    }
  ]
}